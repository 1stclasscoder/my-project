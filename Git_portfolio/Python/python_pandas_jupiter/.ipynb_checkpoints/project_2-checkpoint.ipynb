{
 "cells": [
  {
   "cell_type": "code",
   "execution_count": null,
   "id": "2ee31164",
   "metadata": {},
   "outputs": [],
   "source": [
    "import pandas as pd\n",
    "zoo_read = pd.read_csv('zoo.csv', sep = ',')\n",
    "zoo_read\n"
   ]
  },
  {
   "cell_type": "code",
   "execution_count": 135,
   "id": "a146b5d9",
   "metadata": {},
   "outputs": [
    {
     "data": {
      "text/plain": [
       "np.int64(22)"
      ]
     },
     "execution_count": 135,
     "metadata": {},
     "output_type": "execute_result"
    }
   ],
   "source": [
    "zoo_read.animal.count()"
   ]
  },
  {
   "cell_type": "markdown",
   "id": "a86526e0",
   "metadata": {},
   "source": []
  }
 ],
 "metadata": {
  "kernelspec": {
   "display_name": "Python 3 (ipykernel)",
   "language": "python",
   "name": "python3"
  },
  "language_info": {
   "codemirror_mode": {
    "name": "ipython",
    "version": 3
   },
   "file_extension": ".py",
   "mimetype": "text/x-python",
   "name": "python",
   "nbconvert_exporter": "python",
   "pygments_lexer": "ipython3",
   "version": "3.12.5"
  }
 },
 "nbformat": 4,
 "nbformat_minor": 5
}
